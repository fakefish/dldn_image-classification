{
 "cells": [
  {
   "cell_type": "markdown",
   "metadata": {
    "collapsed": true
   },
   "source": [
    "# Image Classification\n",
    "In this project, you'll classify images from the [CIFAR-10 dataset](https://www.cs.toronto.edu/~kriz/cifar.html).  The dataset consists of airplanes, dogs, cats, and other objects. You'll preprocess the images, then train a convolutional neural network on all the samples. The images need to be normalized and the labels need to be one-hot encoded.  You'll get to apply what you learned and build a convolutional, max pooling, dropout, and fully connected layers.  At the end, you'll get to see your neural network's predictions on the sample images.\n",
    "## Get the Data\n",
    "Run the following cell to download the [CIFAR-10 dataset for python](https://www.cs.toronto.edu/~kriz/cifar-10-python.tar.gz)."
   ]
  },
  {
   "cell_type": "code",
   "execution_count": 1,
   "metadata": {},
   "outputs": [
    {
     "name": "stdout",
     "output_type": "stream",
     "text": [
      "All files found!\n"
     ]
    }
   ],
   "source": [
    "\"\"\"\n",
    "DON'T MODIFY ANYTHING IN THIS CELL THAT IS BELOW THIS LINE\n",
    "\"\"\"\n",
    "from urllib.request import urlretrieve\n",
    "from os.path import isfile, isdir\n",
    "from tqdm import tqdm\n",
    "import problem_unittests as tests\n",
    "import tarfile\n",
    "\n",
    "cifar10_dataset_folder_path = 'cifar-10-batches-py'\n",
    "\n",
    "# Use Floyd's cifar-10 dataset if present\n",
    "floyd_cifar10_location = '/input/cifar-10/python.tar.gz'\n",
    "if isfile(floyd_cifar10_location):\n",
    "    tar_gz_path = floyd_cifar10_location\n",
    "else:\n",
    "    tar_gz_path = 'cifar-10-python.tar.gz'\n",
    "\n",
    "class DLProgress(tqdm):\n",
    "    last_block = 0\n",
    "\n",
    "    def hook(self, block_num=1, block_size=1, total_size=None):\n",
    "        self.total = total_size\n",
    "        self.update((block_num - self.last_block) * block_size)\n",
    "        self.last_block = block_num\n",
    "\n",
    "if not isfile(tar_gz_path):\n",
    "    with DLProgress(unit='B', unit_scale=True, miniters=1, desc='CIFAR-10 Dataset') as pbar:\n",
    "        urlretrieve(\n",
    "            'https://www.cs.toronto.edu/~kriz/cifar-10-python.tar.gz',\n",
    "            tar_gz_path,\n",
    "            pbar.hook)\n",
    "\n",
    "if not isdir(cifar10_dataset_folder_path):\n",
    "    with tarfile.open(tar_gz_path) as tar:\n",
    "        tar.extractall()\n",
    "        tar.close()\n",
    "\n",
    "\n",
    "tests.test_folder_path(cifar10_dataset_folder_path)"
   ]
  },
  {
   "cell_type": "markdown",
   "metadata": {},
   "source": [
    "## Explore the Data\n",
    "The dataset is broken into batches to prevent your machine from running out of memory.  The CIFAR-10 dataset consists of 5 batches, named `data_batch_1`, `data_batch_2`, etc.. Each batch contains the labels and images that are one of the following:\n",
    "* airplane\n",
    "* automobile\n",
    "* bird\n",
    "* cat\n",
    "* deer\n",
    "* dog\n",
    "* frog\n",
    "* horse\n",
    "* ship\n",
    "* truck\n",
    "\n",
    "Understanding a dataset is part of making predictions on the data.  Play around with the code cell below by changing the `batch_id` and `sample_id`. The `batch_id` is the id for a batch (1-5). The `sample_id` is the id for a image and label pair in the batch.\n",
    "\n",
    "Ask yourself \"What are all possible labels?\", \"What is the range of values for the image data?\", \"Are the labels in order or random?\".  Answers to questions like these will help you preprocess the data and end up with better predictions."
   ]
  },
  {
   "cell_type": "code",
   "execution_count": 4,
   "metadata": {},
   "outputs": [
    {
     "name": "stdout",
     "output_type": "stream",
     "text": [
      "\n",
      "Stats of batch 2:\n",
      "Samples: 10000\n",
      "Label Counts: {0: 984, 1: 1007, 2: 1010, 3: 995, 4: 1010, 5: 988, 6: 1008, 7: 1026, 8: 987, 9: 985}\n",
      "First 20 Labels: [1, 6, 6, 8, 8, 3, 4, 6, 0, 6, 0, 3, 6, 6, 5, 4, 8, 3, 2, 6]\n",
      "\n",
      "Example of Image 5:\n",
      "Image - Min Value: 3 Max Value: 219\n",
      "Image - Shape: (32, 32, 3)\n",
      "Label - Label Id: 3 Name: cat\n"
     ]
    },
    {
     "data": {
      "image/png": "[encoded data removed]",
      "text/plain": [
       "<matplotlib.figure.Figure at 0x7fc3f45f5cc0>"
      ]
     },
     "metadata": {
      "image/png": {
       "height": 250,
       "width": 253
      }
     },
     "output_type": "display_data"
    }
   ],
   "source": [
    "%matplotlib inline\n",
    "%config InlineBackend.figure_format = 'retina'\n",
    "\n",
    "import helper\n",
    "import numpy as np\n",
    "\n",
    "# Explore the dataset\n",
    "batch_id = 2\n",
    "sample_id = 5\n",
    "helper.display_stats(cifar10_dataset_folder_path, batch_id, sample_id)"
   ]
  },
  {
   "cell_type": "markdown",
   "metadata": {},
   "source": [
    "## Implement Preprocess Functions\n",
    "### Normalize\n",
    "In the cell below, implement the `normalize` function to take in image data, `x`, and return it as a normalized Numpy array. The values should be in the range of 0 to 1, inclusive.  The return object should be the same shape as `x`."
   ]
  },
  {
   "cell_type": "code",
   "execution_count": 5,
   "metadata": {},
   "outputs": [
    {
     "name": "stdout",
     "output_type": "stream",
     "text": [
      "Tests Passed\n"
     ]
    }
   ],
   "source": [
    "def normalize(x):\n",
    "    \"\"\"\n",
    "    Normalize a list of sample image data in the range of 0 to 1\n",
    "    : x: List of image data.  The image shape is (32, 32, 3)\n",
    "    : return: Numpy array of normalize data\n",
    "    \"\"\"\n",
    "    # TODO: Implement Function\n",
    "    min = np.min(x)\n",
    "    max = np.max(x)\n",
    "    return (x-min)/(max-min)\n",
    "\n",
    "\n",
    "\"\"\"\n",
    "DON'T MODIFY ANYTHING IN THIS CELL THAT IS BELOW THIS LINE\n",
    "\"\"\"\n",
    "tests.test_normalize(normalize)"
   ]
  },
  {
   "cell_type": "markdown",
   "metadata": {},
   "source": [
    "### One-hot encode\n",
    "Just like the previous code cell, you'll be implementing a function for preprocessing.  This time, you'll implement the `one_hot_encode` function. The input, `x`, are a list of labels.  Implement the function to return the list of labels as One-Hot encoded Numpy array.  The possible values for labels are 0 to 9. The one-hot encoding function should return the same encoding for each value between each call to `one_hot_encode`.  Make sure to save the map of encodings outside the function.\n",
    "\n",
    "Hint: Don't reinvent the wheel."
   ]
  },
  {
   "cell_type": "code",
   "execution_count": 8,
   "metadata": {},
   "outputs": [
    {
     "name": "stdout",
     "output_type": "stream",
     "text": [
      "Tests Passed\n"
     ]
    }
   ],
   "source": [
    "def one_hot_encode(x):\n",
    "    \"\"\"\n",
    "    One hot encode a list of sample labels. Return a one-hot encoded vector for each label.\n",
    "    : x: List of sample Labels\n",
    "    : return: Numpy array of one-hot encoded labels\n",
    "    \"\"\"\n",
    "    # TODO: Implement Function\n",
    "    return np.eye(10)[x]\n",
    "\n",
    "\n",
    "\"\"\"\n",
    "DON'T MODIFY ANYTHING IN THIS CELL THAT IS BELOW THIS LINE\n",
    "\"\"\"\n",
    "tests.test_one_hot_encode(one_hot_encode)"
   ]
  },
  {
   "cell_type": "markdown",
   "metadata": {},
   "source": [
    "### Randomize Data\n",
    "As you saw from exploring the data above, the order of the samples are randomized.  It doesn't hurt to randomize it again, but you don't need to for this dataset."
   ]
  },
  {
   "cell_type": "markdown",
   "metadata": {},
   "source": [
    "## Preprocess all the data and save it\n",
    "Running the code cell below will preprocess all the CIFAR-10 data and save it to file. The code below also uses 10% of the training data for validation."
   ]
  },
  {
   "cell_type": "code",
   "execution_count": 9,
   "metadata": {},
   "outputs": [],
   "source": [
    "\"\"\"\n",
    "DON'T MODIFY ANYTHING IN THIS CELL\n",
    "\"\"\"\n",
    "# Preprocess Training, Validation, and Testing Data\n",
    "helper.preprocess_and_save_data(cifar10_dataset_folder_path, normalize, one_hot_encode)"
   ]
  },
  {
   "cell_type": "markdown",
   "metadata": {},
   "source": [
    "# Check Point\n",
    "This is your first checkpoint.  If you ever decide to come back to this notebook or have to restart the notebook, you can start from here.  The preprocessed data has been saved to disk."
   ]
  },
  {
   "cell_type": "code",
   "execution_count": 10,
   "metadata": {
    "collapsed": true
   },
   "outputs": [],
   "source": [
    "\"\"\"\n",
    "DON'T MODIFY ANYTHING IN THIS CELL\n",
    "\"\"\"\n",
    "import pickle\n",
    "import problem_unittests as tests\n",
    "import helper\n",
    "\n",
    "# Load the Preprocessed Validation data\n",
    "valid_features, valid_labels = pickle.load(open('preprocess_validation.p', mode='rb'))"
   ]
  },
  {
   "cell_type": "markdown",
   "metadata": {},
   "source": [
    "## Build the network\n",
    "For the neural network, you'll build each layer into a function.  Most of the code you've seen has been outside of functions. To test your code more thoroughly, we require that you put each layer in a function.  This allows us to give you better feedback and test for simple mistakes using our unittests before you submit your project.\n",
    "\n",
    ">**Note:** If you're finding it hard to dedicate enough time for this course each week, we've provided a small shortcut to this part of the project. In the next couple of problems, you'll have the option to use classes from the [TensorFlow Layers](https://www.tensorflow.org/api_docs/python/tf/layers) or [TensorFlow Layers (contrib)](https://www.tensorflow.org/api_guides/python/contrib.layers) packages to build each layer, except the layers you build in the \"Convolutional and Max Pooling Layer\" section.  TF Layers is similar to Keras's and TFLearn's abstraction to layers, so it's easy to pickup.\n",
    "\n",
    ">However, if you would like to get the most out of this course, try to solve all the problems _without_ using anything from the TF Layers packages. You **can** still use classes from other packages that happen to have the same name as ones you find in TF Layers! For example, instead of using the TF Layers version of the `conv2d` class, [tf.layers.conv2d](https://www.tensorflow.org/api_docs/python/tf/layers/conv2d), you would want to use the TF Neural Network version of `conv2d`, [tf.nn.conv2d](https://www.tensorflow.org/api_docs/python/tf/nn/conv2d). \n",
    "\n",
    "Let's begin!\n",
    "\n",
    "### Input\n",
    "The neural network needs to read the image data, one-hot encoded labels, and dropout keep probability. Implement the following functions\n",
    "* Implement `neural_net_image_input`\n",
    " * Return a [TF Placeholder](https://www.tensorflow.org/api_docs/python/tf/placeholder)\n",
    " * Set the shape using `image_shape` with batch size set to `None`.\n",
    " * Name the TensorFlow placeholder \"x\" using the TensorFlow `name` parameter in the [TF Placeholder](https://www.tensorflow.org/api_docs/python/tf/placeholder).\n",
    "* Implement `neural_net_label_input`\n",
    " * Return a [TF Placeholder](https://www.tensorflow.org/api_docs/python/tf/placeholder)\n",
    " * Set the shape using `n_classes` with batch size set to `None`.\n",
    " * Name the TensorFlow placeholder \"y\" using the TensorFlow `name` parameter in the [TF Placeholder](https://www.tensorflow.org/api_docs/python/tf/placeholder).\n",
    "* Implement `neural_net_keep_prob_input`\n",
    " * Return a [TF Placeholder](https://www.tensorflow.org/api_docs/python/tf/placeholder) for dropout keep probability.\n",
    " * Name the TensorFlow placeholder \"keep_prob\" using the TensorFlow `name` parameter in the [TF Placeholder](https://www.tensorflow.org/api_docs/python/tf/placeholder).\n",
    "\n",
    "These names will be used at the end of the project to load your saved model.\n",
    "\n",
    "Note: `None` for shapes in TensorFlow allow for a dynamic size."
   ]
  },
  {
   "cell_type": "code",
   "execution_count": 13,
   "metadata": {},
   "outputs": [
    {
     "name": "stdout",
     "output_type": "stream",
     "text": [
      "Image Input Tests Passed.\n",
      "Label Input Tests Passed.\n",
      "Keep Prob Tests Passed.\n"
     ]
    }
   ],
   "source": [
    "import tensorflow as tf\n",
    "\n",
    "def neural_net_image_input(image_shape):\n",
    "    \"\"\"\n",
    "    Return a Tensor for a bach of image input\n",
    "    : image_shape: Shape of the images\n",
    "    : return: Tensor for image input.\n",
    "    \"\"\"\n",
    "    # TODO: Implement Function\n",
    "    return tf.placeholder(tf.float32, (None,)+image_shape, name='x')\n",
    "\n",
    "\n",
    "def neural_net_label_input(n_classes):\n",
    "    \"\"\"\n",
    "    Return a Tensor for a batch of label input\n",
    "    : n_classes: Number of classes\n",
    "    : return: Tensor for label input.\n",
    "    \"\"\"\n",
    "    # TODO: Implement Function\n",
    "    return tf.placeholder(tf.float32, (None, n_classes), name='y')\n",
    "\n",
    "\n",
    "def neural_net_keep_prob_input():\n",
    "    \"\"\"\n",
    "    Return a Tensor for keep probability\n",
    "    : return: Tensor for keep probability.\n",
    "    \"\"\"\n",
    "    # TODO: Implement Function\n",
    "    return tf.placeholder(tf.float32, name='keep_prob')\n",
    "\n",
    "\n",
    "\"\"\"\n",
    "DON'T MODIFY ANYTHING IN THIS CELL THAT IS BELOW THIS LINE\n",
    "\"\"\"\n",
    "tf.reset_default_graph()\n",
    "tests.test_nn_image_inputs(neural_net_image_input)\n",
    "tests.test_nn_label_inputs(neural_net_label_input)\n",
    "tests.test_nn_keep_prob_inputs(neural_net_keep_prob_input)"
   ]
  },
  {
   "cell_type": "markdown",
   "metadata": {},
   "source": [
    "### Convolution and Max Pooling Layer\n",
    "Convolution layers have a lot of success with images. For this code cell, you should implement the function `conv2d_maxpool` to apply convolution then max pooling:\n",
    "* Create the weight and bias using `conv_ksize`, `conv_num_outputs` and the shape of `x_tensor`.\n",
    "* Apply a convolution to `x_tensor` using weight and `conv_strides`.\n",
    " * We recommend you use same padding, but you're welcome to use any padding.\n",
    "* Add bias\n",
    "* Add a nonlinear activation to the convolution.\n",
    "* Apply Max Pooling using `pool_ksize` and `pool_strides`.\n",
    " * We recommend you use same padding, but you're welcome to use any padding.\n",
    "\n",
    "**Note:** You **can't** use [TensorFlow Layers](https://www.tensorflow.org/api_docs/python/tf/layers) or [TensorFlow Layers (contrib)](https://www.tensorflow.org/api_guides/python/contrib.layers) for **this** layer, but you can still use TensorFlow's [Neural Network](https://www.tensorflow.org/api_docs/python/tf/nn) package. You may still use the shortcut option for all the **other** layers."
   ]
  },
  {
   "cell_type": "code",
   "execution_count": 15,
   "metadata": {},
   "outputs": [
    {
     "name": "stdout",
     "output_type": "stream",
     "text": [
      "Tests Passed\n"
     ]
    }
   ],
   "source": [
    "def conv2d_maxpool(x_tensor, conv_num_outputs, conv_ksize, conv_strides, pool_ksize, pool_strides):\n",
    "    \"\"\"\n",
    "    Apply convolution then max pooling to x_tensor\n",
    "    :param x_tensor: TensorFlow Tensor\n",
    "    :param conv_num_outputs: Number of outputs for the convolutional layer\n",
    "    :param conv_ksize: kernal size 2-D Tuple for the convolutional layer\n",
    "    :param conv_strides: Stride 2-D Tuple for convolution\n",
    "    :param pool_ksize: kernal size 2-D Tuple for pool\n",
    "    :param pool_strides: Stride 2-D Tuple for pool\n",
    "    : return: A tensor that represents convolution and max pooling of x_tensor\n",
    "    \"\"\"\n",
    "    # TODO: Implement Function\n",
    "    filter_size_height = conv_ksize[0]\n",
    "    filter_size_width = conv_ksize[1]\n",
    "    color_channels = int(x_tensor.shape[3])\n",
    "    k_output = conv_num_outputs\n",
    "    weight = tf.Variable(tf.truncated_normal([filter_size_height, filter_size_width, color_channels, k_output], \n",
    "                                             stddev=.1))\n",
    "    bias = tf.Variable(tf.zeros(k_output))\n",
    "    conv_pool = tf.nn.conv2d(x_tensor, weight, strides = [1, conv_strides[0], conv_strides[1], 1], padding = 'SAME')\n",
    "    conv_pool = tf.nn.bias_add(conv_pool, bias)\n",
    "    conv_pool = tf.nn.relu(conv_pool)\n",
    "    conv_pool = tf.nn.max_pool(conv_pool, ksize = [1, pool_ksize[0], pool_ksize[1], 1],\n",
    "                                          strides = [1, pool_strides[0], pool_strides[1], 1],\n",
    "                                          padding = 'SAME')\n",
    "    return conv_pool\n",
    "\n",
    "\n",
    "\"\"\"\n",
    "DON'T MODIFY ANYTHING IN THIS CELL THAT IS BELOW THIS LINE\n",
    "\"\"\"\n",
    "tests.test_con_pool(conv2d_maxpool)"
   ]
  },
  {
   "cell_type": "markdown",
   "metadata": {},
   "source": [
    "### Flatten Layer\n",
    "Implement the `flatten` function to change the dimension of `x_tensor` from a 4-D tensor to a 2-D tensor.  The output should be the shape (*Batch Size*, *Flattened Image Size*). Shortcut option: you can use classes from the [TensorFlow Layers](https://www.tensorflow.org/api_docs/python/tf/layers) or [TensorFlow Layers (contrib)](https://www.tensorflow.org/api_guides/python/contrib.layers) packages for this layer. For more of a challenge, only use other TensorFlow packages."
   ]
  },
  {
   "cell_type": "code",
   "execution_count": 16,
   "metadata": {},
   "outputs": [
    {
     "name": "stdout",
     "output_type": "stream",
     "text": [
      "Tests Passed\n"
     ]
    }
   ],
   "source": [
    "def flatten(x_tensor):\n",
    "    \"\"\"\n",
    "    Flatten x_tensor to (Batch Size, Flattened Image Size)\n",
    "    : x_tensor: A tensor of size (Batch Size, ...), where ... are the image dimensions.\n",
    "    : return: A tensor of size (Batch Size, Flattened Image Size).\n",
    "    \"\"\"\n",
    "    # TODO: Implement Function\n",
    "    return tf.contrib.layers.flatten(x_tensor)\n",
    "\n",
    "\n",
    "\"\"\"\n",
    "DON'T MODIFY ANYTHING IN THIS CELL THAT IS BELOW THIS LINE\n",
    "\"\"\"\n",
    "tests.test_flatten(flatten)"
   ]
  },
  {
   "cell_type": "markdown",
   "metadata": {},
   "source": [
    "### Fully-Connected Layer\n",
    "Implement the `fully_conn` function to apply a fully connected layer to `x_tensor` with the shape (*Batch Size*, *num_outputs*). Shortcut option: you can use classes from the [TensorFlow Layers](https://www.tensorflow.org/api_docs/python/tf/layers) or [TensorFlow Layers (contrib)](https://www.tensorflow.org/api_guides/python/contrib.layers) packages for this layer. For more of a challenge, only use other TensorFlow packages."
   ]
  },
  {
   "cell_type": "code",
   "execution_count": 17,
   "metadata": {},
   "outputs": [
    {
     "name": "stdout",
     "output_type": "stream",
     "text": [
      "Tests Passed\n"
     ]
    }
   ],
   "source": [
    "def fully_conn(x_tensor, num_outputs):\n",
    "    \"\"\"\n",
    "    Apply a fully connected layer to x_tensor using weight and bias\n",
    "    : x_tensor: A 2-D tensor where the first dimension is batch size.\n",
    "    : num_outputs: The number of output that the new tensor should be.\n",
    "    : return: A 2-D tensor where the second dimension is num_outputs.\n",
    "    \"\"\"\n",
    "    # TODO: Implement Function\n",
    "    weight = tf.Variable(tf.truncated_normal([x_tensor.get_shape().as_list()[1], num_outputs], stddev=.1))\n",
    "    bias = tf.Variable(np.zeros(num_outputs), dtype='float32')\n",
    "    full = tf.add(tf.matmul(x_tensor, weight), bias)\n",
    "    full_conn = tf.nn.relu(full)\n",
    "    return full_conn\n",
    "\n",
    "\n",
    "\"\"\"\n",
    "DON'T MODIFY ANYTHING IN THIS CELL THAT IS BELOW THIS LINE\n",
    "\"\"\"\n",
    "tests.test_fully_conn(fully_conn)"
   ]
  },
  {
   "cell_type": "markdown",
   "metadata": {},
   "source": [
    "### Output Layer\n",
    "Implement the `output` function to apply a fully connected layer to `x_tensor` with the shape (*Batch Size*, *num_outputs*). Shortcut option: you can use classes from the [TensorFlow Layers](https://www.tensorflow.org/api_docs/python/tf/layers) or [TensorFlow Layers (contrib)](https://www.tensorflow.org/api_guides/python/contrib.layers) packages for this layer. For more of a challenge, only use other TensorFlow packages.\n",
    "\n",
    "**Note:** Activation, softmax, or cross entropy should **not** be applied to this."
   ]
  },
  {
   "cell_type": "code",
   "execution_count": 19,
   "metadata": {},
   "outputs": [
    {
     "name": "stdout",
     "output_type": "stream",
     "text": [
      "Tests Passed\n"
     ]
    }
   ],
   "source": [
    "def output(x_tensor, num_outputs):\n",
    "    \"\"\"\n",
    "    Apply a output layer to x_tensor using weight and bias\n",
    "    : x_tensor: A 2-D tensor where the first dimension is batch size.\n",
    "    : num_outputs: The number of output that the new tensor should be.\n",
    "    : return: A 2-D tensor where the second dimension is num_outputs.\n",
    "    \"\"\"\n",
    "    # TODO: Implement Function\n",
    "    weight = tf.Variable(tf.truncated_normal([(int(x_tensor.shape[1])), num_outputs], stddev=.1))\n",
    "    bias = tf.Variable(tf.zeros(num_outputs))\n",
    "    return tf.add(tf.matmul(x_tensor, weight), bias)\n",
    "\n",
    "\n",
    "\"\"\"\n",
    "DON'T MODIFY ANYTHING IN THIS CELL THAT IS BELOW THIS LINE\n",
    "\"\"\"\n",
    "tests.test_output(output)"
   ]
  },
  {
   "cell_type": "markdown",
   "metadata": {},
   "source": [
    "### Create Convolutional Model\n",
    "Implement the function `conv_net` to create a convolutional neural network model. The function takes in a batch of images, `x`, and outputs logits.  Use the layers you created above to create this model:\n",
    "\n",
    "* Apply 1, 2, or 3 Convolution and Max Pool layers\n",
    "* Apply a Flatten Layer\n",
    "* Apply 1, 2, or 3 Fully Connected Layers\n",
    "* Apply an Output Layer\n",
    "* Return the output\n",
    "* Apply [TensorFlow's Dropout](https://www.tensorflow.org/api_docs/python/tf/nn/dropout) to one or more layers in the model using `keep_prob`. "
   ]
  },
  {
   "cell_type": "code",
   "execution_count": 21,
   "metadata": {},
   "outputs": [
    {
     "name": "stdout",
     "output_type": "stream",
     "text": [
      "Neural Network Built!\n"
     ]
    }
   ],
   "source": [
    "def conv_net(x, keep_prob):\n",
    "    \"\"\"\n",
    "    Create a convolutional neural network model\n",
    "    : x: Placeholder tensor that holds image data.\n",
    "    : keep_prob: Placeholder tensor that hold dropout keep probability.\n",
    "    : return: Tensor that represents logits\n",
    "    \"\"\"\n",
    "    # TODO: Apply 1, 2, or 3 Convolution and Max Pool layers\n",
    "    #    Play around with different number of outputs, kernel size and stride\n",
    "    # Function Definition from Above:\n",
    "    #    conv2d_maxpool(x_tensor, conv_num_outputs, conv_ksize, conv_strides, pool_ksize, pool_strides)\n",
    "    result = conv2d_maxpool(x, 128, [2, 2], [2, 2], [2, 2], [2, 2])\n",
    "    result = conv2d_maxpool(result, 256, [2, 2], [2, 2], [2, 2], [2, 2])\n",
    "    result = conv2d_maxpool(result, 512, [2, 2], [2, 2], [2, 2], [2, 2])\n",
    "\n",
    "    # TODO: Apply a Flatten Layer\n",
    "    # Function Definition from Above:\n",
    "    #   flatten(x_tensor)\n",
    "    result = flatten(result)\n",
    "\n",
    "    # TODO: Apply 1, 2, or 3 Fully Connected Layers\n",
    "    #    Play around with different number of outputs\n",
    "    # Function Definition from Above:\n",
    "    #   fully_conn(x_tensor, num_outputs)\n",
    "    result = fully_conn(result, 512)\n",
    "    result = tf.nn.dropout(result, keep_prob)\n",
    "    result = fully_conn(result, 512)\n",
    "    result = tf.nn.dropout(result, keep_prob)\n",
    "    result = fully_conn(result, 512)\n",
    "    result = tf.nn.dropout(result, keep_prob)\n",
    "    \n",
    "    \n",
    "    # TODO: Apply an Output Layer\n",
    "    #    Set this to the number of classes\n",
    "    # Function Definition from Above:\n",
    "    #   output(x_tensor, num_outputs)\n",
    "    result = output(result, 10)\n",
    "    \n",
    "    \n",
    "    # TODO: return output\n",
    "    return result\n",
    "\n",
    "\n",
    "\"\"\"\n",
    "DON'T MODIFY ANYTHING IN THIS CELL THAT IS BELOW THIS LINE\n",
    "\"\"\"\n",
    "\n",
    "##############################\n",
    "## Build the Neural Network ##\n",
    "##############################\n",
    "\n",
    "# Remove previous weights, bias, inputs, etc..\n",
    "tf.reset_default_graph()\n",
    "\n",
    "# Inputs\n",
    "x = neural_net_image_input((32, 32, 3))\n",
    "y = neural_net_label_input(10)\n",
    "keep_prob = neural_net_keep_prob_input()\n",
    "\n",
    "# Model\n",
    "logits = conv_net(x, keep_prob)\n",
    "\n",
    "# Name logits Tensor, so that is can be loaded from disk after training\n",
    "logits = tf.identity(logits, name='logits')\n",
    "\n",
    "# Loss and Optimizer\n",
    "cost = tf.reduce_mean(tf.nn.softmax_cross_entropy_with_logits(logits=logits, labels=y))\n",
    "optimizer = tf.train.AdamOptimizer().minimize(cost)\n",
    "\n",
    "# Accuracy\n",
    "correct_pred = tf.equal(tf.argmax(logits, 1), tf.argmax(y, 1))\n",
    "accuracy = tf.reduce_mean(tf.cast(correct_pred, tf.float32), name='accuracy')\n",
    "\n",
    "tests.test_conv_net(conv_net)"
   ]
  },
  {
   "cell_type": "markdown",
   "metadata": {},
   "source": [
    "## Train the Neural Network\n",
    "### Single Optimization\n",
    "Implement the function `train_neural_network` to do a single optimization.  The optimization should use `optimizer` to optimize in `session` with a `feed_dict` of the following:\n",
    "* `x` for image input\n",
    "* `y` for labels\n",
    "* `keep_prob` for keep probability for dropout\n",
    "\n",
    "This function will be called for each batch, so `tf.global_variables_initializer()` has already been called.\n",
    "\n",
    "Note: Nothing needs to be returned. This function is only optimizing the neural network."
   ]
  },
  {
   "cell_type": "code",
   "execution_count": 23,
   "metadata": {},
   "outputs": [
    {
     "name": "stdout",
     "output_type": "stream",
     "text": [
      "Tests Passed\n"
     ]
    }
   ],
   "source": [
    "def train_neural_network(session, optimizer, keep_probability, feature_batch, label_batch):\n",
    "    \"\"\"\n",
    "    Optimize the session on a batch of images and labels\n",
    "    : session: Current TensorFlow session\n",
    "    : optimizer: TensorFlow optimizer function\n",
    "    : keep_probability: keep probability\n",
    "    : feature_batch: Batch of Numpy image data\n",
    "    : label_batch: Batch of Numpy label data\n",
    "    \"\"\"\n",
    "    # TODO: Implement Function\n",
    "    session.run(optimizer, feed_dict = {\n",
    "        x: feature_batch,\n",
    "        y: label_batch,\n",
    "        keep_prob: keep_probability\n",
    "    })\n",
    "\n",
    "\n",
    "\"\"\"\n",
    "DON'T MODIFY ANYTHING IN THIS CELL THAT IS BELOW THIS LINE\n",
    "\"\"\"\n",
    "tests.test_train_nn(train_neural_network)"
   ]
  },
  {
   "cell_type": "markdown",
   "metadata": {},
   "source": [
    "### Show Stats\n",
    "Implement the function `print_stats` to print loss and validation accuracy.  Use the global variables `valid_features` and `valid_labels` to calculate validation accuracy.  Use a keep probability of `1.0` to calculate the loss and validation accuracy."
   ]
  },
  {
   "cell_type": "code",
   "execution_count": 24,
   "metadata": {},
   "outputs": [],
   "source": [
    "def print_stats(session, feature_batch, label_batch, cost, accuracy):\n",
    "    \"\"\"\n",
    "    Print information about loss and validation accuracy\n",
    "    : session: Current TensorFlow session\n",
    "    : feature_batch: Batch of Numpy image data\n",
    "    : label_batch: Batch of Numpy label data\n",
    "    : cost: TensorFlow cost function\n",
    "    : accuracy: TensorFlow accuracy function\n",
    "    \"\"\"\n",
    "    # TODO: Implement Function\n",
    "    feed_dict = {\n",
    "        x: feature_batch,\n",
    "        y: label_batch,\n",
    "        keep_prob: 1.0\n",
    "    }\n",
    "    cost_value = session.run(cost, feed_dict=feed_dict)\n",
    "    feed_dict = {\n",
    "        x: valid_features,\n",
    "        y: valid_labels, \n",
    "        keep_prob: 1.0\n",
    "    }\n",
    "    accuracy_value = session.run(accuracy, feed_dict=feed_dict)\n",
    "    print(\"Validation loss: {}, Accuracy: {}\".format(cost_value, accuracy_value))"
   ]
  },
  {
   "cell_type": "markdown",
   "metadata": {},
   "source": [
    "### Hyperparameters\n",
    "Tune the following parameters:\n",
    "* Set `epochs` to the number of iterations until the network stops learning or start overfitting\n",
    "* Set `batch_size` to the highest number that your machine has memory for.  Most people set them to common sizes of memory:\n",
    " * 64\n",
    " * 128\n",
    " * 256\n",
    " * ...\n",
    "* Set `keep_probability` to the probability of keeping a node using dropout"
   ]
  },
  {
   "cell_type": "code",
   "execution_count": 27,
   "metadata": {
    "collapsed": true
   },
   "outputs": [],
   "source": [
    "# TODO: Tune Parameters\n",
    "epochs = 50\n",
    "batch_size = 256\n",
    "keep_probability = .8"
   ]
  },
  {
   "cell_type": "markdown",
   "metadata": {},
   "source": [
    "### Train on a Single CIFAR-10 Batch\n",
    "Instead of training the neural network on all the CIFAR-10 batches of data, let's use a single batch. This should save time while you iterate on the model to get a better accuracy.  Once the final validation accuracy is 50% or greater, run the model on all the data in the next section."
   ]
  },
  {
   "cell_type": "code",
   "execution_count": 28,
   "metadata": {},
   "outputs": [
    {
     "name": "stdout",
     "output_type": "stream",
     "text": [
      "Checking the Training on a Single Batch...\n",
      "Epoch  1, CIFAR-10 Batch 1:  Validation loss: 2.1098525524139404, Accuracy: 0.2735999822616577\n",
      "Epoch  2, CIFAR-10 Batch 1:  Validation loss: 1.9484566450119019, Accuracy: 0.3455999493598938\n",
      "Epoch  3, CIFAR-10 Batch 1:  Validation loss: 1.6318414211273193, Accuracy: 0.37959998846054077\n",
      "Epoch  4, CIFAR-10 Batch 1:  Validation loss: 1.3739054203033447, Accuracy: 0.4129999876022339\n",
      "Epoch  5, CIFAR-10 Batch 1:  Validation loss: 1.0912187099456787, Accuracy: 0.4277999699115753\n",
      "Epoch  6, CIFAR-10 Batch 1:  Validation loss: 0.9385993480682373, Accuracy: 0.4535999298095703\n",
      "Epoch  7, CIFAR-10 Batch 1:  Validation loss: 0.7821213006973267, Accuracy: 0.4795999825000763\n",
      "Epoch  8, CIFAR-10 Batch 1:  Validation loss: 0.6584053039550781, Accuracy: 0.4819999635219574\n",
      "Epoch  9, CIFAR-10 Batch 1:  Validation loss: 0.5022347569465637, Accuracy: 0.49919992685317993\n",
      "Epoch 10, CIFAR-10 Batch 1:  Validation loss: 0.4011986553668976, Accuracy: 0.49199995398521423\n",
      "Epoch 11, CIFAR-10 Batch 1:  Validation loss: 0.3247700035572052, Accuracy: 0.5095999240875244\n",
      "Epoch 12, CIFAR-10 Batch 1:  Validation loss: 0.26586246490478516, Accuracy: 0.4657999873161316\n",
      "Epoch 13, CIFAR-10 Batch 1:  Validation loss: 0.30849167704582214, Accuracy: 0.42959997057914734\n",
      "Epoch 14, CIFAR-10 Batch 1:  Validation loss: 0.20947131514549255, Accuracy: 0.4931999742984772\n",
      "Epoch 15, CIFAR-10 Batch 1:  Validation loss: 0.16448986530303955, Accuracy: 0.4665999412536621\n",
      "Epoch 16, CIFAR-10 Batch 1:  Validation loss: 0.14678989350795746, Accuracy: 0.47419995069503784\n",
      "Epoch 17, CIFAR-10 Batch 1:  Validation loss: 0.0994853600859642, Accuracy: 0.4986000061035156\n",
      "Epoch 18, CIFAR-10 Batch 1:  Validation loss: 0.09848598390817642, Accuracy: 0.4861999452114105\n",
      "Epoch 19, CIFAR-10 Batch 1:  Validation loss: 0.05724497511982918, Accuracy: 0.47979992628097534\n",
      "Epoch 20, CIFAR-10 Batch 1:  Validation loss: 0.03611607849597931, Accuracy: 0.49859994649887085\n",
      "Epoch 21, CIFAR-10 Batch 1:  Validation loss: 0.03730769082903862, Accuracy: 0.4681999683380127\n",
      "Epoch 22, CIFAR-10 Batch 1:  Validation loss: 0.045273493975400925, Accuracy: 0.49619996547698975\n",
      "Epoch 23, CIFAR-10 Batch 1:  Validation loss: 0.02084747701883316, Accuracy: 0.5019999146461487\n",
      "Epoch 24, CIFAR-10 Batch 1:  Validation loss: 0.013422723859548569, Accuracy: 0.509399950504303\n",
      "Epoch 25, CIFAR-10 Batch 1:  Validation loss: 0.003745955415070057, Accuracy: 0.4973999559879303\n",
      "Epoch 26, CIFAR-10 Batch 1:  Validation loss: 0.006261134520173073, Accuracy: 0.4941999614238739\n",
      "Epoch 27, CIFAR-10 Batch 1:  Validation loss: 0.01805487647652626, Accuracy: 0.4755999445915222\n",
      "Epoch 28, CIFAR-10 Batch 1:  Validation loss: 0.004724630620330572, Accuracy: 0.5003999471664429\n",
      "Epoch 29, CIFAR-10 Batch 1:  Validation loss: 0.004209950566291809, Accuracy: 0.4825999140739441\n",
      "Epoch 30, CIFAR-10 Batch 1:  Validation loss: 0.007469674106687307, Accuracy: 0.46859994530677795\n",
      "Epoch 31, CIFAR-10 Batch 1:  Validation loss: 0.000984744867309928, Accuracy: 0.5071999430656433\n",
      "Epoch 32, CIFAR-10 Batch 1:  Validation loss: 0.004469884093850851, Accuracy: 0.4939999282360077\n",
      "Epoch 33, CIFAR-10 Batch 1:  Validation loss: 0.0031654872000217438, Accuracy: 0.48159995675086975\n",
      "Epoch 34, CIFAR-10 Batch 1:  Validation loss: 0.0011639657896012068, Accuracy: 0.483599990606308\n",
      "Epoch 35, CIFAR-10 Batch 1:  Validation loss: 0.00450536236166954, Accuracy: 0.4793999493122101\n",
      "Epoch 36, CIFAR-10 Batch 1:  Validation loss: 0.001342416857369244, Accuracy: 0.4899999499320984\n",
      "Epoch 37, CIFAR-10 Batch 1:  Validation loss: 0.0002559512504376471, Accuracy: 0.5051999688148499\n",
      "Epoch 38, CIFAR-10 Batch 1:  Validation loss: 8.376863843295723e-05, Accuracy: 0.5097999572753906\n",
      "Epoch 39, CIFAR-10 Batch 1:  Validation loss: 8.400240039918572e-05, Accuracy: 0.5117999315261841\n",
      "Epoch 40, CIFAR-10 Batch 1:  Validation loss: 7.227624882943928e-05, Accuracy: 0.5017999410629272\n",
      "Epoch 41, CIFAR-10 Batch 1:  Validation loss: 0.0003901026793755591, Accuracy: 0.5083999633789062\n",
      "Epoch 42, CIFAR-10 Batch 1:  Validation loss: 0.0002698731259442866, Accuracy: 0.4984000027179718\n",
      "Epoch 43, CIFAR-10 Batch 1:  Validation loss: 7.514149183407426e-05, Accuracy: 0.5039999485015869\n",
      "Epoch 44, CIFAR-10 Batch 1:  Validation loss: 0.00010338090942241251, Accuracy: 0.49599993228912354\n",
      "Epoch 45, CIFAR-10 Batch 1:  Validation loss: 6.695005868095905e-05, Accuracy: 0.5023999810218811\n",
      "Epoch 46, CIFAR-10 Batch 1:  Validation loss: 0.00010514909808989614, Accuracy: 0.4973999261856079\n",
      "Epoch 47, CIFAR-10 Batch 1:  Validation loss: 9.635394962970167e-05, Accuracy: 0.49439990520477295\n",
      "Epoch 48, CIFAR-10 Batch 1:  Validation loss: 0.00011463676491985098, Accuracy: 0.5063999891281128\n",
      "Epoch 49, CIFAR-10 Batch 1:  Validation loss: 0.000737876514904201, Accuracy: 0.4981999695301056\n",
      "Epoch 50, CIFAR-10 Batch 1:  Validation loss: 6.323673005681485e-05, Accuracy: 0.49799996614456177\n"
     ]
    }
   ],
   "source": [
    "\"\"\"\n",
    "DON'T MODIFY ANYTHING IN THIS CELL\n",
    "\"\"\"\n",
    "print('Checking the Training on a Single Batch...')\n",
    "with tf.Session() as sess:\n",
    "    # Initializing the variables\n",
    "    sess.run(tf.global_variables_initializer())\n",
    "    \n",
    "    # Training cycle\n",
    "    for epoch in range(epochs):\n",
    "        batch_i = 1\n",
    "        for batch_features, batch_labels in helper.load_preprocess_training_batch(batch_i, batch_size):\n",
    "            train_neural_network(sess, optimizer, keep_probability, batch_features, batch_labels)\n",
    "        print('Epoch {:>2}, CIFAR-10 Batch {}:  '.format(epoch + 1, batch_i), end='')\n",
    "        print_stats(sess, batch_features, batch_labels, cost, accuracy)"
   ]
  },
  {
   "cell_type": "markdown",
   "metadata": {},
   "source": [
    "### Fully Train the Model\n",
    "Now that you got a good accuracy with a single CIFAR-10 batch, try it with all five batches."
   ]
  },
  {
   "cell_type": "code",
   "execution_count": 30,
   "metadata": {},
   "outputs": [
    {
     "name": "stdout",
     "output_type": "stream",
     "text": [
      "Training...\n",
      "Epoch  1, CIFAR-10 Batch 1:  Validation loss: 2.078941583633423, Accuracy: 0.26440000534057617\n",
      "Epoch  1, CIFAR-10 Batch 2:  Validation loss: 1.7444185018539429, Accuracy: 0.3511999845504761\n",
      "Epoch  1, CIFAR-10 Batch 3:  Validation loss: 1.5184073448181152, Accuracy: 0.3903999924659729\n",
      "Epoch  1, CIFAR-10 Batch 4:  Validation loss: 1.4905612468719482, Accuracy: 0.41200000047683716\n",
      "Epoch  1, CIFAR-10 Batch 5:  Validation loss: 1.5354857444763184, Accuracy: 0.41579997539520264\n",
      "Epoch  2, CIFAR-10 Batch 1:  Validation loss: 1.5822734832763672, Accuracy: 0.4367999732494354\n",
      "Epoch  2, CIFAR-10 Batch 2:  Validation loss: 1.2572804689407349, Accuracy: 0.44119998812675476\n",
      "Epoch  2, CIFAR-10 Batch 3:  Validation loss: 1.1152725219726562, Accuracy: 0.45239996910095215\n",
      "Epoch  2, CIFAR-10 Batch 4:  Validation loss: 1.2909495830535889, Accuracy: 0.4917999505996704\n",
      "Epoch  2, CIFAR-10 Batch 5:  Validation loss: 1.2328919172286987, Accuracy: 0.4865999221801758\n",
      "Epoch  3, CIFAR-10 Batch 1:  Validation loss: 1.1813448667526245, Accuracy: 0.5173999667167664\n",
      "Epoch  3, CIFAR-10 Batch 2:  Validation loss: 1.0408591032028198, Accuracy: 0.49859994649887085\n",
      "Epoch  3, CIFAR-10 Batch 3:  Validation loss: 0.7853695154190063, Accuracy: 0.4885999858379364\n",
      "Epoch  3, CIFAR-10 Batch 4:  Validation loss: 1.0524325370788574, Accuracy: 0.5257999300956726\n",
      "Epoch  3, CIFAR-10 Batch 5:  Validation loss: 1.0086205005645752, Accuracy: 0.5017999410629272\n",
      "Epoch  4, CIFAR-10 Batch 1:  Validation loss: 1.0045578479766846, Accuracy: 0.5191999673843384\n",
      "Epoch  4, CIFAR-10 Batch 2:  Validation loss: 0.8172541856765747, Accuracy: 0.5379998683929443\n",
      "Epoch  4, CIFAR-10 Batch 3:  Validation loss: 0.6358470320701599, Accuracy: 0.5331999063491821\n",
      "Epoch  4, CIFAR-10 Batch 4:  Validation loss: 0.9245442152023315, Accuracy: 0.5369999408721924\n",
      "Epoch  4, CIFAR-10 Batch 5:  Validation loss: 0.771563708782196, Accuracy: 0.55159991979599\n",
      "Epoch  5, CIFAR-10 Batch 1:  Validation loss: 0.8194470405578613, Accuracy: 0.5663999319076538\n",
      "Epoch  5, CIFAR-10 Batch 2:  Validation loss: 0.6513693332672119, Accuracy: 0.5657999515533447\n",
      "Epoch  5, CIFAR-10 Batch 3:  Validation loss: 0.49701249599456787, Accuracy: 0.5627999305725098\n",
      "Epoch  5, CIFAR-10 Batch 4:  Validation loss: 0.6694661378860474, Accuracy: 0.5679999589920044\n",
      "Epoch  5, CIFAR-10 Batch 5:  Validation loss: 0.5755947828292847, Accuracy: 0.5689998865127563\n",
      "Epoch  6, CIFAR-10 Batch 1:  Validation loss: 0.629610538482666, Accuracy: 0.5841999053955078\n",
      "Epoch  6, CIFAR-10 Batch 2:  Validation loss: 0.4983155131340027, Accuracy: 0.5943999290466309\n",
      "Epoch  6, CIFAR-10 Batch 3:  Validation loss: 0.39798489212989807, Accuracy: 0.5757999420166016\n",
      "Epoch  6, CIFAR-10 Batch 4:  Validation loss: 0.5089014768600464, Accuracy: 0.5843998789787292\n",
      "Epoch  6, CIFAR-10 Batch 5:  Validation loss: 0.4259525537490845, Accuracy: 0.5707998871803284\n",
      "Epoch  7, CIFAR-10 Batch 1:  Validation loss: 0.48704755306243896, Accuracy: 0.5799999237060547\n",
      "Epoch  7, CIFAR-10 Batch 2:  Validation loss: 0.3484500050544739, Accuracy: 0.6009999513626099\n",
      "Epoch  7, CIFAR-10 Batch 3:  Validation loss: 0.29229602217674255, Accuracy: 0.5849999189376831\n",
      "Epoch  7, CIFAR-10 Batch 4:  Validation loss: 0.376090407371521, Accuracy: 0.5869998931884766\n",
      "Epoch  7, CIFAR-10 Batch 5:  Validation loss: 0.3343079388141632, Accuracy: 0.572399914264679\n",
      "Epoch  8, CIFAR-10 Batch 1:  Validation loss: 0.3735348582267761, Accuracy: 0.5869998335838318\n",
      "Epoch  8, CIFAR-10 Batch 2:  Validation loss: 0.27227964997291565, Accuracy: 0.6049998998641968\n",
      "Epoch  8, CIFAR-10 Batch 3:  Validation loss: 0.2561606168746948, Accuracy: 0.5585998892784119\n",
      "Epoch  8, CIFAR-10 Batch 4:  Validation loss: 0.27898555994033813, Accuracy: 0.593799889087677\n",
      "Epoch  8, CIFAR-10 Batch 5:  Validation loss: 0.23882794380187988, Accuracy: 0.5953999757766724\n",
      "Epoch  9, CIFAR-10 Batch 1:  Validation loss: 0.2740965187549591, Accuracy: 0.5793999433517456\n",
      "Epoch  9, CIFAR-10 Batch 2:  Validation loss: 0.23028936982154846, Accuracy: 0.6019998788833618\n",
      "Epoch  9, CIFAR-10 Batch 3:  Validation loss: 0.1859901249408722, Accuracy: 0.5823999643325806\n",
      "Epoch  9, CIFAR-10 Batch 4:  Validation loss: 0.20337902009487152, Accuracy: 0.5939999222755432\n",
      "Epoch  9, CIFAR-10 Batch 5:  Validation loss: 0.2154778093099594, Accuracy: 0.5705999135971069\n",
      "Epoch 10, CIFAR-10 Batch 1:  Validation loss: 0.23761053383350372, Accuracy: 0.5993999242782593\n",
      "Epoch 10, CIFAR-10 Batch 2:  Validation loss: 0.15141579508781433, Accuracy: 0.602199912071228\n",
      "Epoch 10, CIFAR-10 Batch 3:  Validation loss: 0.128675639629364, Accuracy: 0.591999888420105\n",
      "Epoch 10, CIFAR-10 Batch 4:  Validation loss: 0.1439363956451416, Accuracy: 0.5993998646736145\n",
      "Epoch 10, CIFAR-10 Batch 5:  Validation loss: 0.1738186478614807, Accuracy: 0.5905998945236206\n",
      "Epoch 11, CIFAR-10 Batch 1:  Validation loss: 0.19683587551116943, Accuracy: 0.6037999391555786\n",
      "Epoch 11, CIFAR-10 Batch 2:  Validation loss: 0.1515708565711975, Accuracy: 0.5957999229431152\n",
      "Epoch 11, CIFAR-10 Batch 3:  Validation loss: 0.10116100311279297, Accuracy: 0.5985999703407288\n",
      "Epoch 11, CIFAR-10 Batch 4:  Validation loss: 0.11201781779527664, Accuracy: 0.5897998809814453\n",
      "Epoch 11, CIFAR-10 Batch 5:  Validation loss: 0.12654604017734528, Accuracy: 0.5794000029563904\n",
      "Epoch 12, CIFAR-10 Batch 1:  Validation loss: 0.14749675989151, Accuracy: 0.5921999216079712\n",
      "Epoch 12, CIFAR-10 Batch 2:  Validation loss: 0.12536528706550598, Accuracy: 0.596799910068512\n",
      "Epoch 12, CIFAR-10 Batch 3:  Validation loss: 0.10594221949577332, Accuracy: 0.5797998905181885\n",
      "Epoch 12, CIFAR-10 Batch 4:  Validation loss: 0.07535064220428467, Accuracy: 0.5989999175071716\n",
      "Epoch 12, CIFAR-10 Batch 5:  Validation loss: 0.07656419277191162, Accuracy: 0.574199914932251\n",
      "Epoch 13, CIFAR-10 Batch 1:  Validation loss: 0.1403254270553589, Accuracy: 0.5813999176025391\n",
      "Epoch 13, CIFAR-10 Batch 2:  Validation loss: 0.11009333282709122, Accuracy: 0.5783998966217041\n",
      "Epoch 13, CIFAR-10 Batch 3:  Validation loss: 0.08754311501979828, Accuracy: 0.5827999114990234\n",
      "Epoch 13, CIFAR-10 Batch 4:  Validation loss: 0.07406392693519592, Accuracy: 0.5829998850822449\n",
      "Epoch 13, CIFAR-10 Batch 5:  Validation loss: 0.08250259608030319, Accuracy: 0.5639998912811279\n",
      "Epoch 14, CIFAR-10 Batch 1:  Validation loss: 0.08875103294849396, Accuracy: 0.5917999744415283\n",
      "Epoch 14, CIFAR-10 Batch 2:  Validation loss: 0.08436957001686096, Accuracy: 0.5737999677658081\n",
      "Epoch 14, CIFAR-10 Batch 3:  Validation loss: 0.08279197663068771, Accuracy: 0.5701999664306641\n",
      "Epoch 14, CIFAR-10 Batch 4:  Validation loss: 0.06202562525868416, Accuracy: 0.5679998993873596\n",
      "Epoch 14, CIFAR-10 Batch 5:  Validation loss: 0.08186852186918259, Accuracy: 0.5603999495506287\n",
      "Epoch 15, CIFAR-10 Batch 1:  Validation loss: 0.06931719928979874, Accuracy: 0.590999960899353\n",
      "Epoch 15, CIFAR-10 Batch 2:  Validation loss: 0.060125380754470825, Accuracy: 0.5791999101638794\n",
      "Epoch 15, CIFAR-10 Batch 3:  Validation loss: 0.055228736251592636, Accuracy: 0.5585999488830566\n",
      "Epoch 15, CIFAR-10 Batch 4:  Validation loss: 0.037724364548921585, Accuracy: 0.5735999345779419\n",
      "Epoch 15, CIFAR-10 Batch 5:  Validation loss: 0.049494557082653046, Accuracy: 0.5757998824119568\n",
      "Epoch 16, CIFAR-10 Batch 1:  Validation loss: 0.054149072617292404, Accuracy: 0.5893999338150024\n",
      "Epoch 16, CIFAR-10 Batch 2:  Validation loss: 0.029720112681388855, Accuracy: 0.6023998856544495\n",
      "Epoch 16, CIFAR-10 Batch 3:  Validation loss: 0.04035073146224022, Accuracy: 0.5577998757362366\n",
      "Epoch 16, CIFAR-10 Batch 4:  Validation loss: 0.04220392182469368, Accuracy: 0.5841999053955078\n",
      "Epoch 16, CIFAR-10 Batch 5:  Validation loss: 0.03590921685099602, Accuracy: 0.5901999473571777\n",
      "Epoch 17, CIFAR-10 Batch 1:  Validation loss: 0.027655627578496933, Accuracy: 0.5885999798774719\n",
      "Epoch 17, CIFAR-10 Batch 2:  Validation loss: 0.026733484119176865, Accuracy: 0.5815998911857605\n",
      "Epoch 17, CIFAR-10 Batch 3:  Validation loss: 0.026540417224168777, Accuracy: 0.5687999129295349\n",
      "Epoch 17, CIFAR-10 Batch 4:  Validation loss: 0.038884542882442474, Accuracy: 0.5679999589920044\n",
      "Epoch 17, CIFAR-10 Batch 5:  Validation loss: 0.0479915514588356, Accuracy: 0.5769999623298645\n",
      "Epoch 18, CIFAR-10 Batch 1:  Validation loss: 0.025232646614313126, Accuracy: 0.5779999494552612\n"
     ]
    },
    {
     "name": "stdout",
     "output_type": "stream",
     "text": [
      "Epoch 18, CIFAR-10 Batch 2:  Validation loss: 0.03113425150513649, Accuracy: 0.579599916934967\n",
      "Epoch 18, CIFAR-10 Batch 3:  Validation loss: 0.01676236465573311, Accuracy: 0.5885999202728271\n",
      "Epoch 18, CIFAR-10 Batch 4:  Validation loss: 0.024331409484148026, Accuracy: 0.5785999298095703\n",
      "Epoch 18, CIFAR-10 Batch 5:  Validation loss: 0.013659127056598663, Accuracy: 0.593999981880188\n",
      "Epoch 19, CIFAR-10 Batch 1:  Validation loss: 0.02494969218969345, Accuracy: 0.5657999515533447\n",
      "Epoch 19, CIFAR-10 Batch 2:  Validation loss: 0.01819913648068905, Accuracy: 0.5879999399185181\n",
      "Epoch 19, CIFAR-10 Batch 3:  Validation loss: 0.030107147991657257, Accuracy: 0.5835999250411987\n",
      "Epoch 19, CIFAR-10 Batch 4:  Validation loss: 0.013922625221312046, Accuracy: 0.5789998769760132\n",
      "Epoch 19, CIFAR-10 Batch 5:  Validation loss: 0.012917636893689632, Accuracy: 0.5909999012947083\n",
      "Epoch 20, CIFAR-10 Batch 1:  Validation loss: 0.02684645913541317, Accuracy: 0.5635999441146851\n",
      "Epoch 20, CIFAR-10 Batch 2:  Validation loss: 0.016646580770611763, Accuracy: 0.5937999486923218\n",
      "Epoch 20, CIFAR-10 Batch 3:  Validation loss: 0.020279232412576675, Accuracy: 0.5991998910903931\n",
      "Epoch 20, CIFAR-10 Batch 4:  Validation loss: 0.01982203498482704, Accuracy: 0.5869999527931213\n",
      "Epoch 20, CIFAR-10 Batch 5:  Validation loss: 0.03441610187292099, Accuracy: 0.5619999170303345\n",
      "Epoch 21, CIFAR-10 Batch 1:  Validation loss: 0.0128240454941988, Accuracy: 0.5615999698638916\n",
      "Epoch 21, CIFAR-10 Batch 2:  Validation loss: 0.022759970277547836, Accuracy: 0.561799943447113\n",
      "Epoch 21, CIFAR-10 Batch 3:  Validation loss: 0.01626548357307911, Accuracy: 0.5959999561309814\n",
      "Epoch 21, CIFAR-10 Batch 4:  Validation loss: 0.013212349265813828, Accuracy: 0.5879998803138733\n",
      "Epoch 21, CIFAR-10 Batch 5:  Validation loss: 0.02025740221142769, Accuracy: 0.5433999300003052\n",
      "Epoch 22, CIFAR-10 Batch 1:  Validation loss: 0.02420344389975071, Accuracy: 0.579599916934967\n",
      "Epoch 22, CIFAR-10 Batch 2:  Validation loss: 0.025206230580806732, Accuracy: 0.5699999332427979\n",
      "Epoch 22, CIFAR-10 Batch 3:  Validation loss: 0.01927506923675537, Accuracy: 0.58079993724823\n",
      "Epoch 22, CIFAR-10 Batch 4:  Validation loss: 0.029221979901194572, Accuracy: 0.5813999176025391\n",
      "Epoch 22, CIFAR-10 Batch 5:  Validation loss: 0.020184271037578583, Accuracy: 0.5729999542236328\n",
      "Epoch 23, CIFAR-10 Batch 1:  Validation loss: 0.02224150486290455, Accuracy: 0.58079993724823\n",
      "Epoch 23, CIFAR-10 Batch 2:  Validation loss: 0.006453399080783129, Accuracy: 0.5659999251365662\n",
      "Epoch 23, CIFAR-10 Batch 3:  Validation loss: 0.00923875067383051, Accuracy: 0.5871999263763428\n",
      "Epoch 23, CIFAR-10 Batch 4:  Validation loss: 0.013289104215800762, Accuracy: 0.5729999542236328\n",
      "Epoch 23, CIFAR-10 Batch 5:  Validation loss: 0.012650532647967339, Accuracy: 0.5779998898506165\n",
      "Epoch 24, CIFAR-10 Batch 1:  Validation loss: 0.01836632564663887, Accuracy: 0.5825998783111572\n",
      "Epoch 24, CIFAR-10 Batch 2:  Validation loss: 0.00639688316732645, Accuracy: 0.577799916267395\n",
      "Epoch 24, CIFAR-10 Batch 3:  Validation loss: 0.0054722195491194725, Accuracy: 0.5839998722076416\n",
      "Epoch 24, CIFAR-10 Batch 4:  Validation loss: 0.0038164914585649967, Accuracy: 0.5749999284744263\n",
      "Epoch 24, CIFAR-10 Batch 5:  Validation loss: 0.0068188137374818325, Accuracy: 0.5701999664306641\n",
      "Epoch 25, CIFAR-10 Batch 1:  Validation loss: 0.019394926726818085, Accuracy: 0.5727999210357666\n",
      "Epoch 25, CIFAR-10 Batch 2:  Validation loss: 0.004446785431355238, Accuracy: 0.5479999780654907\n",
      "Epoch 25, CIFAR-10 Batch 3:  Validation loss: 0.00527600571513176, Accuracy: 0.5943999290466309\n",
      "Epoch 25, CIFAR-10 Batch 4:  Validation loss: 0.004602893255650997, Accuracy: 0.5687999725341797\n",
      "Epoch 25, CIFAR-10 Batch 5:  Validation loss: 0.0022245466243475676, Accuracy: 0.5895999670028687\n",
      "Epoch 26, CIFAR-10 Batch 1:  Validation loss: 0.005711143836379051, Accuracy: 0.5811998844146729\n",
      "Epoch 26, CIFAR-10 Batch 2:  Validation loss: 0.0026725796051323414, Accuracy: 0.5703999996185303\n",
      "Epoch 26, CIFAR-10 Batch 3:  Validation loss: 0.014700149185955524, Accuracy: 0.6001998782157898\n",
      "Epoch 26, CIFAR-10 Batch 4:  Validation loss: 0.0026949236635118723, Accuracy: 0.582599937915802\n",
      "Epoch 26, CIFAR-10 Batch 5:  Validation loss: 0.003994666039943695, Accuracy: 0.5901999473571777\n",
      "Epoch 27, CIFAR-10 Batch 1:  Validation loss: 0.016396429389715195, Accuracy: 0.5735998749732971\n",
      "Epoch 27, CIFAR-10 Batch 2:  Validation loss: 0.0024899952113628387, Accuracy: 0.5597999095916748\n",
      "Epoch 27, CIFAR-10 Batch 3:  Validation loss: 0.0032886192202568054, Accuracy: 0.5923998951911926\n",
      "Epoch 27, CIFAR-10 Batch 4:  Validation loss: 0.005445076152682304, Accuracy: 0.5695999264717102\n",
      "Epoch 27, CIFAR-10 Batch 5:  Validation loss: 0.0034954959992319345, Accuracy: 0.5761999487876892\n",
      "Epoch 28, CIFAR-10 Batch 1:  Validation loss: 0.047140102833509445, Accuracy: 0.5631999373435974\n",
      "Epoch 28, CIFAR-10 Batch 2:  Validation loss: 0.001750038005411625, Accuracy: 0.5761999487876892\n",
      "Epoch 28, CIFAR-10 Batch 3:  Validation loss: 0.0027797312941402197, Accuracy: 0.585599958896637\n",
      "Epoch 28, CIFAR-10 Batch 4:  Validation loss: 0.004738242365419865, Accuracy: 0.5715999007225037\n",
      "Epoch 28, CIFAR-10 Batch 5:  Validation loss: 0.003508124966174364, Accuracy: 0.5781999230384827\n",
      "Epoch 29, CIFAR-10 Batch 1:  Validation loss: 0.007717066444456577, Accuracy: 0.5633999109268188\n",
      "Epoch 29, CIFAR-10 Batch 2:  Validation loss: 0.004101998172700405, Accuracy: 0.569599986076355\n",
      "Epoch 29, CIFAR-10 Batch 3:  Validation loss: 0.01139257661998272, Accuracy: 0.5631999373435974\n",
      "Epoch 29, CIFAR-10 Batch 4:  Validation loss: 0.0044008842669427395, Accuracy: 0.5811998844146729\n",
      "Epoch 29, CIFAR-10 Batch 5:  Validation loss: 0.002167845144867897, Accuracy: 0.5785999298095703\n",
      "Epoch 30, CIFAR-10 Batch 1:  Validation loss: 0.0011794979218393564, Accuracy: 0.5737999081611633\n",
      "Epoch 30, CIFAR-10 Batch 2:  Validation loss: 0.002335203345865011, Accuracy: 0.5773999094963074\n",
      "Epoch 30, CIFAR-10 Batch 3:  Validation loss: 0.005139087326824665, Accuracy: 0.5721998810768127\n",
      "Epoch 30, CIFAR-10 Batch 4:  Validation loss: 0.003190879710018635, Accuracy: 0.5877999663352966\n",
      "Epoch 30, CIFAR-10 Batch 5:  Validation loss: 0.003720045555382967, Accuracy: 0.5897999405860901\n",
      "Epoch 31, CIFAR-10 Batch 1:  Validation loss: 0.005003330763429403, Accuracy: 0.5759999752044678\n",
      "Epoch 31, CIFAR-10 Batch 2:  Validation loss: 0.005052945576608181, Accuracy: 0.5681999325752258\n",
      "Epoch 31, CIFAR-10 Batch 3:  Validation loss: 0.004085569176822901, Accuracy: 0.5769999027252197\n",
      "Epoch 31, CIFAR-10 Batch 4:  Validation loss: 0.003301631659269333, Accuracy: 0.5855998992919922\n",
      "Epoch 31, CIFAR-10 Batch 5:  Validation loss: 0.0038153475616127253, Accuracy: 0.5863999128341675\n",
      "Epoch 32, CIFAR-10 Batch 1:  Validation loss: 0.0025673776399344206, Accuracy: 0.5753999352455139\n",
      "Epoch 32, CIFAR-10 Batch 2:  Validation loss: 0.0011165159521624446, Accuracy: 0.5699999332427979\n",
      "Epoch 32, CIFAR-10 Batch 3:  Validation loss: 0.004364451859146357, Accuracy: 0.5697999000549316\n",
      "Epoch 32, CIFAR-10 Batch 4:  Validation loss: 0.0018652752041816711, Accuracy: 0.5811999440193176\n",
      "Epoch 32, CIFAR-10 Batch 5:  Validation loss: 0.0014255819842219353, Accuracy: 0.5653999447822571\n",
      "Epoch 33, CIFAR-10 Batch 1:  Validation loss: 0.002621936146169901, Accuracy: 0.5654000043869019\n",
      "Epoch 33, CIFAR-10 Batch 2:  Validation loss: 0.0011282771592959762, Accuracy: 0.5579999685287476\n",
      "Epoch 33, CIFAR-10 Batch 3:  Validation loss: 0.003664916381239891, Accuracy: 0.5871999263763428\n",
      "Epoch 33, CIFAR-10 Batch 4:  Validation loss: 0.0008486993610858917, Accuracy: 0.5801999568939209\n",
      "Epoch 33, CIFAR-10 Batch 5:  Validation loss: 0.001992196775972843, Accuracy: 0.5813999176025391\n",
      "Epoch 34, CIFAR-10 Batch 1:  Validation loss: 0.0038021402433514595, Accuracy: 0.5643998980522156\n",
      "Epoch 34, CIFAR-10 Batch 2:  Validation loss: 0.0007189114112406969, Accuracy: 0.5671999454498291\n",
      "Epoch 34, CIFAR-10 Batch 3:  Validation loss: 0.004224468022584915, Accuracy: 0.5941998958587646\n",
      "Epoch 34, CIFAR-10 Batch 4:  Validation loss: 0.0017105278093367815, Accuracy: 0.5775999426841736\n",
      "Epoch 34, CIFAR-10 Batch 5:  Validation loss: 0.0007347448263317347, Accuracy: 0.5837998986244202\n",
      "Epoch 35, CIFAR-10 Batch 1:  Validation loss: 0.007226443383842707, Accuracy: 0.585399866104126\n"
     ]
    },
    {
     "name": "stdout",
     "output_type": "stream",
     "text": [
      "Epoch 35, CIFAR-10 Batch 2:  Validation loss: 0.00029960100073367357, Accuracy: 0.5755999088287354\n",
      "Epoch 35, CIFAR-10 Batch 3:  Validation loss: 0.008199356496334076, Accuracy: 0.591999888420105\n",
      "Epoch 35, CIFAR-10 Batch 4:  Validation loss: 0.001243546954356134, Accuracy: 0.5773999094963074\n",
      "Epoch 35, CIFAR-10 Batch 5:  Validation loss: 0.0010393987176939845, Accuracy: 0.5867999196052551\n",
      "Epoch 36, CIFAR-10 Batch 1:  Validation loss: 0.0013102181255817413, Accuracy: 0.5873998999595642\n",
      "Epoch 36, CIFAR-10 Batch 2:  Validation loss: 0.0036511956714093685, Accuracy: 0.5801998972892761\n",
      "Epoch 36, CIFAR-10 Batch 3:  Validation loss: 0.0008039083913899958, Accuracy: 0.5905998945236206\n",
      "Epoch 36, CIFAR-10 Batch 4:  Validation loss: 0.0008488625171594322, Accuracy: 0.5677999258041382\n",
      "Epoch 36, CIFAR-10 Batch 5:  Validation loss: 0.000777947308961302, Accuracy: 0.5855998992919922\n",
      "Epoch 37, CIFAR-10 Batch 1:  Validation loss: 0.0012565263314172626, Accuracy: 0.5997998714447021\n",
      "Epoch 37, CIFAR-10 Batch 2:  Validation loss: 0.00032063969410955906, Accuracy: 0.5857998728752136\n",
      "Epoch 37, CIFAR-10 Batch 3:  Validation loss: 0.0009069729130715132, Accuracy: 0.5911999344825745\n",
      "Epoch 37, CIFAR-10 Batch 4:  Validation loss: 0.0008477509254589677, Accuracy: 0.5709999203681946\n",
      "Epoch 37, CIFAR-10 Batch 5:  Validation loss: 0.002102803671732545, Accuracy: 0.5809999108314514\n",
      "Epoch 38, CIFAR-10 Batch 1:  Validation loss: 0.002685574349015951, Accuracy: 0.5883999466896057\n",
      "Epoch 38, CIFAR-10 Batch 2:  Validation loss: 0.00029340756009332836, Accuracy: 0.5901998281478882\n",
      "Epoch 38, CIFAR-10 Batch 3:  Validation loss: 0.0005049242172390223, Accuracy: 0.5961999297142029\n",
      "Epoch 38, CIFAR-10 Batch 4:  Validation loss: 0.013438818044960499, Accuracy: 0.5699999332427979\n",
      "Epoch 38, CIFAR-10 Batch 5:  Validation loss: 0.0009971832623705268, Accuracy: 0.5787999033927917\n",
      "Epoch 39, CIFAR-10 Batch 1:  Validation loss: 0.0005905827274546027, Accuracy: 0.5983999371528625\n",
      "Epoch 39, CIFAR-10 Batch 2:  Validation loss: 0.0002757438342086971, Accuracy: 0.5909999012947083\n",
      "Epoch 39, CIFAR-10 Batch 3:  Validation loss: 0.0003991857811342925, Accuracy: 0.5895999073982239\n",
      "Epoch 39, CIFAR-10 Batch 4:  Validation loss: 0.0002702019701246172, Accuracy: 0.5747998952865601\n",
      "Epoch 39, CIFAR-10 Batch 5:  Validation loss: 0.00126974331215024, Accuracy: 0.5887998938560486\n",
      "Epoch 40, CIFAR-10 Batch 1:  Validation loss: 0.0008756430470384657, Accuracy: 0.5943999290466309\n",
      "Epoch 40, CIFAR-10 Batch 2:  Validation loss: 0.00022977148182690144, Accuracy: 0.5887998938560486\n",
      "Epoch 40, CIFAR-10 Batch 3:  Validation loss: 0.0009612260619178414, Accuracy: 0.5941998958587646\n",
      "Epoch 40, CIFAR-10 Batch 4:  Validation loss: 0.0004991689929738641, Accuracy: 0.5733999013900757\n",
      "Epoch 40, CIFAR-10 Batch 5:  Validation loss: 0.00032421870855614543, Accuracy: 0.5829998850822449\n",
      "Epoch 41, CIFAR-10 Batch 1:  Validation loss: 0.0013611658941954374, Accuracy: 0.5879999399185181\n",
      "Epoch 41, CIFAR-10 Batch 2:  Validation loss: 0.00020457012578845024, Accuracy: 0.5809998512268066\n",
      "Epoch 41, CIFAR-10 Batch 3:  Validation loss: 0.0004459016490727663, Accuracy: 0.5903999209403992\n",
      "Epoch 41, CIFAR-10 Batch 4:  Validation loss: 0.0004888492985628545, Accuracy: 0.5843999981880188\n",
      "Epoch 41, CIFAR-10 Batch 5:  Validation loss: 0.0006182226352393627, Accuracy: 0.574999988079071\n",
      "Epoch 42, CIFAR-10 Batch 1:  Validation loss: 0.00021590663527604192, Accuracy: 0.5925998687744141\n",
      "Epoch 42, CIFAR-10 Batch 2:  Validation loss: 0.0005548616172745824, Accuracy: 0.5783998966217041\n",
      "Epoch 42, CIFAR-10 Batch 3:  Validation loss: 0.00040249706944450736, Accuracy: 0.5939999222755432\n",
      "Epoch 42, CIFAR-10 Batch 4:  Validation loss: 0.0013969758292660117, Accuracy: 0.5879999399185181\n",
      "Epoch 42, CIFAR-10 Batch 5:  Validation loss: 0.00047562969848513603, Accuracy: 0.5827999114990234\n",
      "Epoch 43, CIFAR-10 Batch 1:  Validation loss: 0.0013228169409558177, Accuracy: 0.5885999202728271\n",
      "Epoch 43, CIFAR-10 Batch 2:  Validation loss: 0.0002400088997092098, Accuracy: 0.5817999839782715\n",
      "Epoch 43, CIFAR-10 Batch 3:  Validation loss: 0.006199907977133989, Accuracy: 0.5917998552322388\n",
      "Epoch 43, CIFAR-10 Batch 4:  Validation loss: 0.000419028103351593, Accuracy: 0.5923999547958374\n",
      "Epoch 43, CIFAR-10 Batch 5:  Validation loss: 0.001793477451428771, Accuracy: 0.5901999473571777\n",
      "Epoch 44, CIFAR-10 Batch 1:  Validation loss: 0.001814328832551837, Accuracy: 0.568199872970581\n",
      "Epoch 44, CIFAR-10 Batch 2:  Validation loss: 9.766816947376356e-05, Accuracy: 0.5865999460220337\n",
      "Epoch 44, CIFAR-10 Batch 3:  Validation loss: 0.0025968693662434816, Accuracy: 0.5911998748779297\n",
      "Epoch 44, CIFAR-10 Batch 4:  Validation loss: 0.0003184948582202196, Accuracy: 0.5955999493598938\n",
      "Epoch 44, CIFAR-10 Batch 5:  Validation loss: 0.003768026363104582, Accuracy: 0.5843998789787292\n",
      "Epoch 45, CIFAR-10 Batch 1:  Validation loss: 0.001479622209444642, Accuracy: 0.577799916267395\n",
      "Epoch 45, CIFAR-10 Batch 2:  Validation loss: 0.000443593948148191, Accuracy: 0.5899999141693115\n",
      "Epoch 45, CIFAR-10 Batch 3:  Validation loss: 0.0004447320243343711, Accuracy: 0.5891998410224915\n",
      "Epoch 45, CIFAR-10 Batch 4:  Validation loss: 0.00018948894285131246, Accuracy: 0.5893999338150024\n",
      "Epoch 45, CIFAR-10 Batch 5:  Validation loss: 0.000431129737989977, Accuracy: 0.5927999019622803\n",
      "Epoch 46, CIFAR-10 Batch 1:  Validation loss: 0.0006880043656565249, Accuracy: 0.5893998742103577\n",
      "Epoch 46, CIFAR-10 Batch 2:  Validation loss: 0.0019822551403194666, Accuracy: 0.5931999683380127\n",
      "Epoch 46, CIFAR-10 Batch 3:  Validation loss: 0.0025623312685638666, Accuracy: 0.6001999378204346\n",
      "Epoch 46, CIFAR-10 Batch 4:  Validation loss: 5.5966964282561094e-05, Accuracy: 0.5905999541282654\n",
      "Epoch 46, CIFAR-10 Batch 5:  Validation loss: 0.0015191512648016214, Accuracy: 0.5817998647689819\n",
      "Epoch 47, CIFAR-10 Batch 1:  Validation loss: 0.0019219325622543693, Accuracy: 0.5897998809814453\n",
      "Epoch 47, CIFAR-10 Batch 2:  Validation loss: 0.0003564289945643395, Accuracy: 0.5885999202728271\n",
      "Epoch 47, CIFAR-10 Batch 3:  Validation loss: 0.00020271207904443145, Accuracy: 0.601599931716919\n",
      "Epoch 47, CIFAR-10 Batch 4:  Validation loss: 0.000507223594468087, Accuracy: 0.5803999304771423\n",
      "Epoch 47, CIFAR-10 Batch 5:  Validation loss: 0.00027826428413391113, Accuracy: 0.585399866104126\n",
      "Epoch 48, CIFAR-10 Batch 1:  Validation loss: 0.0032343100756406784, Accuracy: 0.5733999609947205\n",
      "Epoch 48, CIFAR-10 Batch 2:  Validation loss: 0.016762230545282364, Accuracy: 0.5945999026298523\n",
      "Epoch 48, CIFAR-10 Batch 3:  Validation loss: 0.00031789569766260684, Accuracy: 0.6059999465942383\n",
      "Epoch 48, CIFAR-10 Batch 4:  Validation loss: 0.00012270249135326594, Accuracy: 0.5941998958587646\n",
      "Epoch 48, CIFAR-10 Batch 5:  Validation loss: 0.0007146093994379044, Accuracy: 0.5895999073982239\n",
      "Epoch 49, CIFAR-10 Batch 1:  Validation loss: 0.0003000519354827702, Accuracy: 0.5897999405860901\n",
      "Epoch 49, CIFAR-10 Batch 2:  Validation loss: 0.00019070235430262983, Accuracy: 0.5899999737739563\n",
      "Epoch 49, CIFAR-10 Batch 3:  Validation loss: 0.00024186434166040272, Accuracy: 0.6035999655723572\n",
      "Epoch 49, CIFAR-10 Batch 4:  Validation loss: 0.00021873931109439582, Accuracy: 0.5945999622344971\n",
      "Epoch 49, CIFAR-10 Batch 5:  Validation loss: 0.0023852407466620207, Accuracy: 0.5877999067306519\n",
      "Epoch 50, CIFAR-10 Batch 1:  Validation loss: 0.00012273117317818105, Accuracy: 0.5951998829841614\n",
      "Epoch 50, CIFAR-10 Batch 2:  Validation loss: 0.00014381320215761662, Accuracy: 0.5941998958587646\n",
      "Epoch 50, CIFAR-10 Batch 3:  Validation loss: 4.704845923697576e-05, Accuracy: 0.6091998815536499\n",
      "Epoch 50, CIFAR-10 Batch 4:  Validation loss: 0.0011180811561644077, Accuracy: 0.5847998857498169\n",
      "Epoch 50, CIFAR-10 Batch 5:  Validation loss: 0.0001766129571478814, Accuracy: 0.5949999094009399\n"
     ]
    }
   ],
   "source": [
    "\"\"\"\n",
    "DON'T MODIFY ANYTHING IN THIS CELL\n",
    "\"\"\"\n",
    "save_model_path = './image_classification'\n",
    "\n",
    "print('Training...')\n",
    "with tf.Session() as sess:\n",
    "    # Initializing the variables\n",
    "    sess.run(tf.global_variables_initializer())\n",
    "    \n",
    "    # Training cycle\n",
    "    for epoch in range(epochs):\n",
    "        # Loop over all batches\n",
    "        n_batches = 5\n",
    "        for batch_i in range(1, n_batches + 1):\n",
    "            for batch_features, batch_labels in helper.load_preprocess_training_batch(batch_i, batch_size):\n",
    "                train_neural_network(sess, optimizer, keep_probability, batch_features, batch_labels)\n",
    "            print('Epoch {:>2}, CIFAR-10 Batch {}:  '.format(epoch + 1, batch_i), end='')\n",
    "            print_stats(sess, batch_features, batch_labels, cost, accuracy)\n",
    "            \n",
    "    # Save Model\n",
    "    saver = tf.train.Saver()\n",
    "    save_path = saver.save(sess, save_model_path)"
   ]
  },
  {
   "cell_type": "markdown",
   "metadata": {},
   "source": [
    "# Checkpoint\n",
    "The model has been saved to disk.\n",
    "## Test Model\n",
    "Test your model against the test dataset.  This will be your final accuracy. You should have an accuracy greater than 50%. If you don't, keep tweaking the model architecture and parameters."
   ]
  },
  {
   "cell_type": "code",
   "execution_count": 31,
   "metadata": {},
   "outputs": [
    {
     "name": "stdout",
     "output_type": "stream",
     "text": [
      "INFO:tensorflow:Restoring parameters from ./image_classification\n",
      "Testing Accuracy: 0.59951171875\n",
      "\n"
     ]
    },
    {
     "data": {
      "image/png": "[encoded data removed]",
      "text/plain": [
       "<matplotlib.figure.Figure at 0x7fc37872acf8>"
      ]
     },
     "metadata": {
      "image/png": {
       "height": 319,
       "width": 349
      }
     },
     "output_type": "display_data"
    }
   ],
   "source": [
    "\"\"\"\n",
    "DON'T MODIFY ANYTHING IN THIS CELL\n",
    "\"\"\"\n",
    "%matplotlib inline\n",
    "%config InlineBackend.figure_format = 'retina'\n",
    "\n",
    "import tensorflow as tf\n",
    "import pickle\n",
    "import helper\n",
    "import random\n",
    "\n",
    "# Set batch size if not already set\n",
    "try:\n",
    "    if batch_size:\n",
    "        pass\n",
    "except NameError:\n",
    "    batch_size = 64\n",
    "\n",
    "save_model_path = './image_classification'\n",
    "n_samples = 4\n",
    "top_n_predictions = 3\n",
    "\n",
    "def test_model():\n",
    "    \"\"\"\n",
    "    Test the saved model against the test dataset\n",
    "    \"\"\"\n",
    "\n",
    "    test_features, test_labels = pickle.load(open('preprocess_training.p', mode='rb'))\n",
    "    loaded_graph = tf.Graph()\n",
    "\n",
    "    with tf.Session(graph=loaded_graph) as sess:\n",
    "        # Load model\n",
    "        loader = tf.train.import_meta_graph(save_model_path + '.meta')\n",
    "        loader.restore(sess, save_model_path)\n",
    "\n",
    "        # Get Tensors from loaded model\n",
    "        loaded_x = loaded_graph.get_tensor_by_name('x:0')\n",
    "        loaded_y = loaded_graph.get_tensor_by_name('y:0')\n",
    "        loaded_keep_prob = loaded_graph.get_tensor_by_name('keep_prob:0')\n",
    "        loaded_logits = loaded_graph.get_tensor_by_name('logits:0')\n",
    "        loaded_acc = loaded_graph.get_tensor_by_name('accuracy:0')\n",
    "        \n",
    "        # Get accuracy in batches for memory limitations\n",
    "        test_batch_acc_total = 0\n",
    "        test_batch_count = 0\n",
    "        \n",
    "        for train_feature_batch, train_label_batch in helper.batch_features_labels(test_features, test_labels, batch_size):\n",
    "            test_batch_acc_total += sess.run(\n",
    "                loaded_acc,\n",
    "                feed_dict={loaded_x: train_feature_batch, loaded_y: train_label_batch, loaded_keep_prob: 1.0})\n",
    "            test_batch_count += 1\n",
    "\n",
    "        print('Testing Accuracy: {}\\n'.format(test_batch_acc_total/test_batch_count))\n",
    "\n",
    "        # Print Random Samples\n",
    "        random_test_features, random_test_labels = tuple(zip(*random.sample(list(zip(test_features, test_labels)), n_samples)))\n",
    "        random_test_predictions = sess.run(\n",
    "            tf.nn.top_k(tf.nn.softmax(loaded_logits), top_n_predictions),\n",
    "            feed_dict={loaded_x: random_test_features, loaded_y: random_test_labels, loaded_keep_prob: 1.0})\n",
    "        helper.display_image_predictions(random_test_features, random_test_labels, random_test_predictions)\n",
    "\n",
    "\n",
    "test_model()"
   ]
  },
  {
   "cell_type": "markdown",
   "metadata": {},
   "source": [
    "## Why 50-70% Accuracy?\n",
    "You might be wondering why you can't get an accuracy any higher. First things first, 50% isn't bad for a simple CNN.  Pure guessing would get you 10% accuracy. However, you might notice people are getting scores [well above 70%](http://rodrigob.github.io/are_we_there_yet/build/classification_datasets_results.html#43494641522d3130).  That's because we haven't taught you all there is to know about neural networks. We still need to cover a few more techniques.\n",
    "## Submitting This Project\n",
    "When submitting this project, make sure to run all the cells before saving the notebook.  Save the notebook file as \"dlnd_image_classification.ipynb\" and save it as a HTML file under \"File\" -> \"Download as\".  Include the \"helper.py\" and \"problem_unittests.py\" files in your submission."
   ]
  },
  {
   "cell_type": "code",
   "execution_count": null,
   "metadata": {
    "collapsed": true
   },
   "outputs": [],
   "source": []
  }
 ],
 "metadata": {
  "kernelspec": {
   "display_name": "Python 3",
   "language": "python",
   "name": "python3"
  },
  "language_info": {
   "codemirror_mode": {
    "name": "ipython",
    "version": 3
   },
   "file_extension": ".py",
   "mimetype": "text/x-python",
   "name": "python",
   "nbconvert_exporter": "python",
   "pygments_lexer": "ipython3",
   "version": "3.5.3"
  }
 },
 "nbformat": 4,
 "nbformat_minor": 1
}
